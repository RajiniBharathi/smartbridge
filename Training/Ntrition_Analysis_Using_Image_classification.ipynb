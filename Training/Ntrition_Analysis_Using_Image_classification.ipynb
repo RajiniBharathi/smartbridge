{
 "cells": [
  {
   "cell_type": "code",
   "execution_count": 1,
   "metadata": {},
   "outputs": [],
   "source": [
    "from tensorflow.keras.preprocessing.image import ImageDataGenerator"
   ]
  },
  {
   "cell_type": "code",
   "execution_count": 2,
   "metadata": {},
   "outputs": [],
   "source": [
    "train_datagen=ImageDataGenerator(rescale=1./255,zoom_range=0.25,\n",
    "                                 horizontal_flip=True,vertical_flip=False,\n",
    "                                 width_shift_range=0.2\n",
    "                                 \n",
    "                                )"
   ]
  },
  {
   "cell_type": "code",
   "execution_count": 3,
   "metadata": {},
   "outputs": [],
   "source": [
    "test_datagen=ImageDataGenerator(rescale=1./255)"
   ]
  },
  {
   "cell_type": "code",
   "execution_count": 4,
   "metadata": {},
   "outputs": [
    {
     "name": "stdout",
     "output_type": "stream",
     "text": [
      "Found 1471 images belonging to 3 classes.\n"
     ]
    }
   ],
   "source": [
    "#flow_from_directory\n",
    "x_train=train_datagen.flow_from_directory(r'C:\\Users\\RAJINI\\OneDrive\\Desktop\\dataset\\trainset',\n",
    "       target_size=(64,64),\n",
    "       class_mode='categorical',\n",
    "       batch_size=32)"
   ]
  },
  {
   "cell_type": "code",
   "execution_count": 5,
   "metadata": {},
   "outputs": [
    {
     "name": "stdout",
     "output_type": "stream",
     "text": [
      "Found 321 images belonging to 3 classes.\n"
     ]
    }
   ],
   "source": [
    "x_test=test_datagen.flow_from_directory(r'C:\\Users\\RAJINI\\OneDrive\\Desktop\\dataset\\testset',\n",
    "       target_size=(64,64),\n",
    "       class_mode='categorical',\n",
    "       batch_size=32)"
   ]
  },
  {
   "cell_type": "code",
   "execution_count": 6,
   "metadata": {},
   "outputs": [],
   "source": [
    "#modeling\n",
    "from tensorflow.keras.models import Sequential\n",
    "from tensorflow.keras.layers import Convolution2D\n",
    "from tensorflow.keras.layers import MaxPooling2D\n",
    "from tensorflow.keras.layers import Flatten\n",
    "from tensorflow.keras.layers import Dense"
   ]
  },
  {
   "cell_type": "code",
   "execution_count": 7,
   "metadata": {},
   "outputs": [],
   "source": [
    "model=Sequential()"
   ]
  },
  {
   "cell_type": "code",
   "execution_count": 8,
   "metadata": {},
   "outputs": [],
   "source": [
    "model.add(Convolution2D(32,(3,3),input_shape=(64,64,3),activation='relu'))"
   ]
  },
  {
   "cell_type": "code",
   "execution_count": 9,
   "metadata": {},
   "outputs": [],
   "source": [
    "model.add(MaxPooling2D(pool_size=(2,2)))"
   ]
  },
  {
   "cell_type": "code",
   "execution_count": 10,
   "metadata": {},
   "outputs": [],
   "source": [
    "model.add(Flatten())"
   ]
  },
  {
   "cell_type": "code",
   "execution_count": 11,
   "metadata": {},
   "outputs": [],
   "source": [
    "#hidden layer\n",
    "model.add(Dense(units=128,kernel_initializer='uniform',activation='relu'))"
   ]
  },
  {
   "cell_type": "code",
   "execution_count": 12,
   "metadata": {},
   "outputs": [],
   "source": [
    "#model.add(Dense(units=1,kernel_initializer='uniform',activation='relu'))"
   ]
  },
  {
   "cell_type": "code",
   "execution_count": 13,
   "metadata": {},
   "outputs": [],
   "source": [
    "#output layer\n",
    "model.add(Dense(units=3,kernel_initializer='uniform',activation='softmax'))\n",
    "    "
   ]
  },
  {
   "cell_type": "code",
   "execution_count": 14,
   "metadata": {},
   "outputs": [],
   "source": [
    "model.compile(loss='categorical_crossentropy',optimizer='adam',\n",
    "             metrics=['accuracy'])"
   ]
  },
  {
   "cell_type": "code",
   "execution_count": 15,
   "metadata": {},
   "outputs": [
    {
     "name": "stderr",
     "output_type": "stream",
     "text": [
      "C:\\Users\\RAJINI\\anaconda3\\lib\\site-packages\\tensorflow\\python\\keras\\engine\\training.py:1844: UserWarning: `Model.fit_generator` is deprecated and will be removed in a future version. Please use `Model.fit`, which supports generators.\n",
      "  warnings.warn('`Model.fit_generator` is deprecated and '\n"
     ]
    },
    {
     "name": "stdout",
     "output_type": "stream",
     "text": [
      "Epoch 1/25\n",
      "34/34 [==============================] - 6s 152ms/step - loss: 1.0018 - accuracy: 0.5243 - val_loss: 0.9190 - val_accuracy: 0.5688\n",
      "Epoch 2/25\n",
      "34/34 [==============================] - 4s 127ms/step - loss: 0.7315 - accuracy: 0.6850 - val_loss: 0.7825 - val_accuracy: 0.6812\n",
      "Epoch 3/25\n",
      "34/34 [==============================] - 4s 123ms/step - loss: 0.6600 - accuracy: 0.7399 - val_loss: 0.6383 - val_accuracy: 0.7875\n",
      "Epoch 4/25\n",
      "34/34 [==============================] - 4s 113ms/step - loss: 0.5634 - accuracy: 0.8026 - val_loss: 0.5531 - val_accuracy: 0.7906\n",
      "Epoch 5/25\n",
      "34/34 [==============================] - 4s 109ms/step - loss: 0.5649 - accuracy: 0.7906 - val_loss: 0.5828 - val_accuracy: 0.7906\n",
      "Epoch 6/25\n",
      "34/34 [==============================] - 4s 107ms/step - loss: 0.5210 - accuracy: 0.8214 - val_loss: 0.6471 - val_accuracy: 0.7531\n",
      "Epoch 7/25\n",
      "34/34 [==============================] - 4s 108ms/step - loss: 0.5221 - accuracy: 0.8009 - val_loss: 0.6221 - val_accuracy: 0.7875\n",
      "Epoch 8/25\n",
      "34/34 [==============================] - 4s 108ms/step - loss: 0.4616 - accuracy: 0.8384 - val_loss: 0.5319 - val_accuracy: 0.8125\n",
      "Epoch 9/25\n",
      "34/34 [==============================] - 4s 107ms/step - loss: 0.5053 - accuracy: 0.8319 - val_loss: 0.5399 - val_accuracy: 0.8000\n",
      "Epoch 10/25\n",
      "34/34 [==============================] - 4s 110ms/step - loss: 0.5696 - accuracy: 0.7889 - val_loss: 0.5797 - val_accuracy: 0.8062\n",
      "Epoch 11/25\n",
      "34/34 [==============================] - 4s 110ms/step - loss: 0.4770 - accuracy: 0.8403 - val_loss: 0.5195 - val_accuracy: 0.8188\n",
      "Epoch 12/25\n",
      "34/34 [==============================] - 4s 112ms/step - loss: 0.4280 - accuracy: 0.8637 - val_loss: 0.5352 - val_accuracy: 0.8156\n",
      "Epoch 13/25\n",
      "34/34 [==============================] - 4s 109ms/step - loss: 0.4940 - accuracy: 0.8481 - val_loss: 0.5220 - val_accuracy: 0.8156\n",
      "Epoch 14/25\n",
      "34/34 [==============================] - 4s 114ms/step - loss: 0.4946 - accuracy: 0.8361 - val_loss: 0.6328 - val_accuracy: 0.7594\n",
      "Epoch 15/25\n",
      "34/34 [==============================] - 5s 133ms/step - loss: 0.4227 - accuracy: 0.8495 - val_loss: 0.5663 - val_accuracy: 0.8062\n",
      "Epoch 16/25\n",
      "34/34 [==============================] - 4s 122ms/step - loss: 0.4454 - accuracy: 0.8536 - val_loss: 0.5446 - val_accuracy: 0.8000\n",
      "Epoch 17/25\n",
      "34/34 [==============================] - 4s 118ms/step - loss: 0.4304 - accuracy: 0.8494 - val_loss: 0.5536 - val_accuracy: 0.8031\n",
      "Epoch 18/25\n",
      "34/34 [==============================] - 4s 115ms/step - loss: 0.4145 - accuracy: 0.8606 - val_loss: 0.6514 - val_accuracy: 0.7719\n",
      "Epoch 19/25\n",
      "34/34 [==============================] - 4s 115ms/step - loss: 0.3951 - accuracy: 0.8700 - val_loss: 0.5037 - val_accuracy: 0.8156\n",
      "Epoch 20/25\n",
      "34/34 [==============================] - 4s 117ms/step - loss: 0.4149 - accuracy: 0.8467 - val_loss: 0.5568 - val_accuracy: 0.8062\n",
      "Epoch 21/25\n",
      "34/34 [==============================] - 4s 114ms/step - loss: 0.4108 - accuracy: 0.8593 - val_loss: 0.5607 - val_accuracy: 0.8000\n",
      "Epoch 22/25\n",
      "34/34 [==============================] - 4s 113ms/step - loss: 0.4386 - accuracy: 0.8465 - val_loss: 0.6364 - val_accuracy: 0.7812\n",
      "Epoch 23/25\n",
      "34/34 [==============================] - 4s 114ms/step - loss: 0.3696 - accuracy: 0.8674 - val_loss: 0.5331 - val_accuracy: 0.8094\n",
      "Epoch 24/25\n",
      "34/34 [==============================] - 4s 117ms/step - loss: 0.3853 - accuracy: 0.8732 - val_loss: 0.6475 - val_accuracy: 0.7719\n",
      "Epoch 25/25\n",
      "34/34 [==============================] - 4s 119ms/step - loss: 0.3776 - accuracy: 0.8620 - val_loss: 0.5228 - val_accuracy: 0.8125\n"
     ]
    },
    {
     "data": {
      "text/plain": [
       "<tensorflow.python.keras.callbacks.History at 0x21f1ed1daf0>"
      ]
     },
     "execution_count": 15,
     "metadata": {},
     "output_type": "execute_result"
    }
   ],
   "source": [
    "model.fit_generator(x_train,steps_per_epoch=1091//32,epochs=25,validation_data=x_test,\n",
    "                   validation_steps=321//32)"
   ]
  },
  {
   "cell_type": "code",
   "execution_count": 16,
   "metadata": {},
   "outputs": [
    {
     "data": {
      "text/plain": [
       "{'Guava': 0, 'apple': 1, 'orange': 2}"
      ]
     },
     "execution_count": 16,
     "metadata": {},
     "output_type": "execute_result"
    }
   ],
   "source": [
    "x_train.class_indices"
   ]
  },
  {
   "cell_type": "code",
   "execution_count": 17,
   "metadata": {},
   "outputs": [],
   "source": [
    "model.save('fruits.h5')  #saves the weights for keras h5 is extension"
   ]
  },
  {
   "cell_type": "code",
   "execution_count": 18,
   "metadata": {},
   "outputs": [],
   "source": [
    "#PREDICTION\n",
    "import numpy as np\n",
    "from tensorflow.keras.models import load_model\n",
    "from  tensorflow.keras.preprocessing import image"
   ]
  },
  {
   "cell_type": "code",
   "execution_count": 19,
   "metadata": {},
   "outputs": [],
   "source": [
    "mod=load_model('fruits.h5')"
   ]
  },
  {
   "cell_type": "code",
   "execution_count": 20,
   "metadata": {},
   "outputs": [],
   "source": [
    "model.compile(loss='categorical_crossentropy',optimizer='adam',metrics=['accuracy'])"
   ]
  },
  {
   "cell_type": "code",
   "execution_count": 21,
   "metadata": {},
   "outputs": [],
   "source": [
    "img=image.load_img(r'C:\\Users\\RAJINI\\OneDrive\\Desktop\\dataset\\testset\\Guava\\th38.jpg',\n",
    "                  target_size=(64,64))\n",
    "    "
   ]
  },
  {
   "cell_type": "code",
   "execution_count": 22,
   "metadata": {},
   "outputs": [],
   "source": [
    "\n",
    "x=image.img_to_array(img) #converting loaded image to aray format"
   ]
  },
  {
   "cell_type": "code",
   "execution_count": 23,
   "metadata": {},
   "outputs": [
    {
     "data": {
      "text/plain": [
       "(64, 64, 3)"
      ]
     },
     "execution_count": 23,
     "metadata": {},
     "output_type": "execute_result"
    }
   ],
   "source": [
    "x.shape    #original image diemntions"
   ]
  },
  {
   "cell_type": "code",
   "execution_count": 24,
   "metadata": {},
   "outputs": [],
   "source": [
    "x=np.expand_dims(img,axis=0) #expanding pixel values"
   ]
  },
  {
   "cell_type": "code",
   "execution_count": 25,
   "metadata": {},
   "outputs": [
    {
     "data": {
      "text/plain": [
       "(1, 64, 64, 3)"
      ]
     },
     "execution_count": 25,
     "metadata": {},
     "output_type": "execute_result"
    }
   ],
   "source": [
    "x.shape"
   ]
  },
  {
   "cell_type": "code",
   "execution_count": 27,
   "metadata": {},
   "outputs": [],
   "source": [
    "a=mod.predict_classes(x)"
   ]
  },
  {
   "cell_type": "code",
   "execution_count": 28,
   "metadata": {},
   "outputs": [
    {
     "data": {
      "text/plain": [
       "array([0], dtype=int64)"
      ]
     },
     "execution_count": 28,
     "metadata": {},
     "output_type": "execute_result"
    }
   ],
   "source": [
    "a"
   ]
  },
  {
   "cell_type": "code",
   "execution_count": 29,
   "metadata": {},
   "outputs": [],
   "source": [
    "index=['Guava', 'apple', 'orange']"
   ]
  },
  {
   "cell_type": "code",
   "execution_count": 31,
   "metadata": {},
   "outputs": [],
   "source": [
    "result=str(index[a[0]])"
   ]
  },
  {
   "cell_type": "code",
   "execution_count": 32,
   "metadata": {},
   "outputs": [
    {
     "data": {
      "text/plain": [
       "'Guava'"
      ]
     },
     "execution_count": 32,
     "metadata": {},
     "output_type": "execute_result"
    }
   ],
   "source": [
    "result"
   ]
  },
  {
   "cell_type": "code",
   "execution_count": null,
   "metadata": {},
   "outputs": [],
   "source": []
  }
 ],
 "metadata": {
  "kernelspec": {
   "display_name": "Python 3",
   "language": "python",
   "name": "python3"
  },
  "language_info": {
   "codemirror_mode": {
    "name": "ipython",
    "version": 3
   },
   "file_extension": ".py",
   "mimetype": "text/x-python",
   "name": "python",
   "nbconvert_exporter": "python",
   "pygments_lexer": "ipython3",
   "version": "3.8.5"
  }
 },
 "nbformat": 4,
 "nbformat_minor": 4
}
